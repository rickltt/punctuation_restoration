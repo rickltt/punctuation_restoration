{
 "cells": [
  {
   "cell_type": "code",
   "execution_count": 1,
   "metadata": {},
   "outputs": [
    {
     "name": "stderr",
     "output_type": "stream",
     "text": [
      "/home/tongtao.ling/miniconda3/envs/t5/lib/python3.9/site-packages/tqdm/auto.py:21: TqdmWarning: IProgress not found. Please update jupyter and ipywidgets. See https://ipywidgets.readthedocs.io/en/stable/user_install.html\n",
      "  from .autonotebook import tqdm as notebook_tqdm\n"
     ]
    }
   ],
   "source": [
    "import torch\n",
    "import jieba\n",
    "import numpy as np\n",
    "from classifier import BertForMaskClassification\n",
    "from transformers import AutoTokenizer, AutoConfig, BertForTokenClassification\n",
    "\n",
    "label_list = [\"O\",\"COMMA\",\"PERIOD\",\"COLON\"]\n",
    "\n",
    "label2punct = {\n",
    "    \"COMMA\": \"，\",\n",
    "    \"PERIOD\": \"。\",\n",
    "    \"COLON\":\"：\",\n",
    "}\n",
    "\n",
    "model_name_or_path = \"output\"\n",
    "\n",
    "tokenizer = AutoTokenizer.from_pretrained(model_name_or_path)\n",
    "model = BertForMaskClassification.from_pretrained(model_name_or_path)\n",
    "device = torch.device(\"cuda\" if torch.cuda.is_available() else \"cpu\")"
   ]
  },
  {
   "cell_type": "code",
   "execution_count": 2,
   "metadata": {},
   "outputs": [],
   "source": [
    "def punct(text):\n",
    "\n",
    "    tokenize_words = jieba.lcut(''.join(text))\n",
    "    mask_tokens = []\n",
    "    for word in tokenize_words:\n",
    "        mask_tokens.extend(word)\n",
    "        mask_tokens.append(\"[MASK]\")\n",
    "    tokenized_inputs = tokenizer(mask_tokens,is_split_into_words=True, return_tensors=\"pt\")\n",
    "    with torch.no_grad():   \n",
    "        logits = model(**tokenized_inputs).logits\n",
    "    predictions = logits.argmax(-1).tolist()\n",
    "    predictions = predictions[0]\n",
    "    tokens = tokenizer.convert_ids_to_tokens(tokenized_inputs[\"input_ids\"][0])\n",
    "\n",
    "    result =[]\n",
    "    print(tokens)\n",
    "    print(predictions)\n",
    "    for token, prediction in zip(tokens, predictions):\n",
    "        if token ==\"[CLS]\" or token ==\"[SEP]\":\n",
    "            continue\n",
    "        if token == \"[MASK]\":\n",
    "            label = label_list[prediction]\n",
    "            if label != \"O\":\n",
    "                punct = label2punct[label]\n",
    "                result.append(punct)\n",
    "        else:\n",
    "            result.append(token)\n",
    "\n",
    "    return \"\".join(result)\n"
   ]
  },
  {
   "cell_type": "code",
   "execution_count": 3,
   "metadata": {},
   "outputs": [],
   "source": [
    "text1 = '对于腰痛治疗专家建议谨慎手术治疗推荐物理康复治疗与心理治疗相结合'\n",
    "text2 = '全腹未触及包块肝脾肋下未触及胆囊未触及Murphy征阴性肾脏未触及'\n",
    "text3 = '未见毛细血管搏动征未闻及水冲脉未闻及枪击音等'\n",
    "text4 = '本病病性属实证病位在胰腑与脾胃有关'\n",
    "text5 = '肝浊音界正常肝上界位于锁骨中线第五肋间移动浊音阴性肾区无叩痛'"
   ]
  },
  {
   "cell_type": "code",
   "execution_count": 4,
   "metadata": {},
   "outputs": [
    {
     "name": "stderr",
     "output_type": "stream",
     "text": [
      "Building prefix dict from the default dictionary ...\n",
      "Loading model from cache /tmp/jieba.cache\n",
      "Dumping model to file cache /tmp/jieba.cache\n",
      "Dump cache file failed.\n",
      "Traceback (most recent call last):\n",
      "  File \"/home/tongtao.ling/miniconda3/envs/t5/lib/python3.9/site-packages/jieba/__init__.py\", line 154, in initialize\n",
      "    _replace_file(fpath, cache_file)\n",
      "PermissionError: [Errno 1] Operation not permitted: '/tmp/tmps_ew_jtg' -> '/tmp/jieba.cache'\n",
      "Loading model cost 0.935 seconds.\n",
      "Prefix dict has been built successfully.\n"
     ]
    },
    {
     "name": "stdout",
     "output_type": "stream",
     "text": [
      "['[CLS]', '对', '于', '[MASK]', '腰', '痛', '[MASK]', '治', '疗', '[MASK]', '专', '家', '建', '议', '[MASK]', '谨', '慎', '[MASK]', '手', '术', '[MASK]', '治', '疗', '[MASK]', '推', '荐', '[MASK]', '物', '理', '[MASK]', '康', '复', '[MASK]', '治', '疗', '[MASK]', '与', '[MASK]', '心', '理', '治', '疗', '[MASK]', '相', '结', '合', '[MASK]', '[SEP]']\n",
      "[0, 0, 0, 0, 0, 0, 0, 0, 0, 2, 0, 0, 0, 1, 1, 0, 0, 0, 0, 0, 0, 0, 0, 1, 0, 0, 0, 0, 0, 0, 0, 0, 0, 0, 0, 0, 0, 0, 0, 0, 0, 0, 0, 0, 0, 0, 2, 0]\n",
      "对于腰痛治疗。专家建议，谨慎手术治疗，推荐物理康复治疗与心理治疗相结合。\n"
     ]
    }
   ],
   "source": [
    "print(punct(text1))"
   ]
  },
  {
   "cell_type": "code",
   "execution_count": 5,
   "metadata": {},
   "outputs": [
    {
     "name": "stdout",
     "output_type": "stream",
     "text": [
      "['[CLS]', '全', '腹', '[MASK]', '未', '[MASK]', '触', '及', '[MASK]', '包', '块', '[MASK]', '肝', '[MASK]', '脾', '[MASK]', '肋', '[MASK]', '下', '[MASK]', '未', '[MASK]', '触', '及', '[MASK]', '胆', '囊', '[MASK]', '未', '[MASK]', '触', '及', '[MASK]', 'm', 'u', 'r', 'p', 'h', 'y', '[MASK]', '征', '[MASK]', '阴', '性', '[MASK]', '肾', '脏', '[MASK]', '未', '[MASK]', '触', '及', '[MASK]', '[SEP]']\n",
      "[0, 0, 0, 0, 0, 0, 0, 0, 0, 0, 0, 1, 0, 0, 0, 0, 0, 0, 0, 0, 0, 0, 0, 0, 1, 0, 0, 0, 0, 0, 0, 0, 1, 0, 0, 0, 0, 0, 0, 0, 0, 0, 0, 0, 1, 0, 0, 0, 0, 0, 0, 0, 1, 0]\n",
      "全腹未触及包块，肝脾肋下未触及，胆囊未触及，murphy征阴性，肾脏未触及，\n"
     ]
    }
   ],
   "source": [
    "print(punct(text2))"
   ]
  },
  {
   "cell_type": "code",
   "execution_count": 6,
   "metadata": {},
   "outputs": [
    {
     "name": "stdout",
     "output_type": "stream",
     "text": [
      "['[CLS]', '未', '见', '[MASK]', '毛', '细', '血', '管', '[MASK]', '搏', '动', '[MASK]', '征', '[MASK]', '未', '闻', '[MASK]', '及', '水', '[MASK]', '冲', '脉', '[MASK]', '未', '闻', '[MASK]', '及', '[MASK]', '枪', '击', '[MASK]', '音', '等', '[MASK]', '[SEP]']\n",
      "[0, 0, 0, 0, 0, 0, 0, 0, 0, 0, 0, 0, 0, 1, 0, 0, 0, 0, 0, 0, 0, 0, 1, 0, 0, 0, 0, 0, 0, 0, 0, 0, 0, 2, 0]\n",
      "未见毛细血管搏动征，未闻及水冲脉，未闻及枪击音等。\n"
     ]
    }
   ],
   "source": [
    "print(punct(text3))"
   ]
  },
  {
   "cell_type": "code",
   "execution_count": 7,
   "metadata": {},
   "outputs": [
    {
     "name": "stdout",
     "output_type": "stream",
     "text": [
      "['[CLS]', '本', '病', '[MASK]', '病', '性', '[MASK]', '属', '[MASK]', '实', '证', '[MASK]', '病', '位', '[MASK]', '在', '[MASK]', '胰', '腑', '[MASK]', '与', '[MASK]', '脾', '胃', '[MASK]', '有', '关', '[MASK]', '[SEP]']\n",
      "[0, 0, 0, 0, 0, 0, 0, 0, 0, 0, 0, 1, 0, 0, 0, 0, 0, 0, 0, 1, 0, 0, 0, 0, 0, 0, 0, 2, 0]\n",
      "本病病性属实证，病位在胰腑，与脾胃有关。\n"
     ]
    }
   ],
   "source": [
    "print(punct(text4))"
   ]
  },
  {
   "cell_type": "code",
   "execution_count": 8,
   "metadata": {},
   "outputs": [
    {
     "name": "stdout",
     "output_type": "stream",
     "text": [
      "['[CLS]', '肝', '[MASK]', '浊', '音', '[MASK]', '界', '[MASK]', '正', '常', '[MASK]', '肝', '上', '界', '[MASK]', '位', '于', '[MASK]', '锁', '骨', '[MASK]', '中', '线', '[MASK]', '第', '五', '[MASK]', '肋', '间', '[MASK]', '移', '动', '[MASK]', '浊', '音', '[MASK]', '阴', '性', '[MASK]', '肾', '区', '[MASK]', '无', '[MASK]', '叩', '痛', '[MASK]', '[SEP]']\n",
      "[0, 0, 0, 0, 0, 0, 0, 0, 0, 0, 1, 0, 0, 0, 0, 0, 0, 0, 0, 0, 0, 0, 0, 0, 0, 0, 0, 0, 0, 1, 0, 0, 0, 0, 0, 0, 0, 0, 1, 0, 0, 0, 0, 0, 0, 0, 2, 0]\n",
      "肝浊音界正常，肝上界位于锁骨中线第五肋间，移动浊音阴性，肾区无叩痛。\n"
     ]
    }
   ],
   "source": [
    "print(punct(text5))"
   ]
  }
 ],
 "metadata": {
  "kernelspec": {
   "display_name": "t5",
   "language": "python",
   "name": "python3"
  },
  "language_info": {
   "codemirror_mode": {
    "name": "ipython",
    "version": 3
   },
   "file_extension": ".py",
   "mimetype": "text/x-python",
   "name": "python",
   "nbconvert_exporter": "python",
   "pygments_lexer": "ipython3",
   "version": "3.9.0"
  }
 },
 "nbformat": 4,
 "nbformat_minor": 2
}
